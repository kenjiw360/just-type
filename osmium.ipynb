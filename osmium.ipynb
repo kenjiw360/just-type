{
 "cells": [
  {
   "cell_type": "code",
   "execution_count": 1,
   "metadata": {},
   "outputs": [],
   "source": [
    "DATABASE='osmium'\n",
    "HOST='127.0.0.1'\n",
    "USERNAME='kenjiwang'\n",
    "PASSWORD='5517007'\n",
    "PORT='5432'"
   ]
  },
  {
   "cell_type": "code",
   "execution_count": 2,
   "metadata": {},
   "outputs": [
    {
     "name": "stderr",
     "output_type": "stream",
     "text": [
      "/Users/kenjiwang/anaconda3/envs/osmium/lib/python3.12/site-packages/bitsandbytes/cextension.py:34: UserWarning: The installed version of bitsandbytes was compiled without GPU support. 8-bit optimizers, 8-bit multiplication, and GPU quantization are unavailable.\n",
      "  warn(\"The installed version of bitsandbytes was compiled without GPU support. \"\n"
     ]
    },
    {
     "name": "stdout",
     "output_type": "stream",
     "text": [
      "'NoneType' object has no attribute 'cadam32bit_grad_fp32'\n"
     ]
    }
   ],
   "source": [
    "from angle_emb import AnglE, Prompts\n",
    "from numpy.linalg import norm\n",
    "import numpy as np\n",
    "import psycopg2"
   ]
  },
  {
   "cell_type": "code",
   "execution_count": 3,
   "metadata": {},
   "outputs": [],
   "source": [
    "def cosine_similarity(a,b):\n",
    "\treturn np.sum(a*b, axis=1)/(norm(a, axis=1)*norm(b, axis=1))"
   ]
  },
  {
   "cell_type": "code",
   "execution_count": 4,
   "metadata": {},
   "outputs": [],
   "source": [
    "conn = psycopg2.connect(database=DATABASE,\n",
    "\thost=HOST,\n",
    "\tuser=USERNAME,\n",
    "\tpassword=PASSWORD,\n",
    "\tport=PORT\n",
    ")\n",
    "\n",
    "cursor = conn.cursor()\n",
    "\n",
    "cursor.execute(\"CREATE TABLE IF NOT EXISTS notes (id bigserial PRIMARY KEY NOT NULL, title text NOT NULL, category text NOT NULL, notes text NOT NULL)\")\n",
    "\n",
    "conn.commit()"
   ]
  },
  {
   "cell_type": "code",
   "execution_count": 5,
   "metadata": {},
   "outputs": [
    {
     "name": "stderr",
     "output_type": "stream",
     "text": [
      "INFO:AnglE:Prompt is set, the prompt will be automatically applied during the encoding phase. To disable prompt setting, please configure set_prompt(prompt=None)\n"
     ]
    }
   ],
   "source": [
    "angle = AnglE.from_pretrained('WhereIsAI/UAE-Large-V1', pooling_strategy='cls').cuda()\n",
    "angle.set_prompt(prompt=Prompts.C)"
   ]
  },
  {
   "cell_type": "code",
   "execution_count": 12,
   "metadata": {},
   "outputs": [],
   "source": [
    "def categorize_note(note, categories):\n",
    "\tembedded = angle.encode({\"text\": note}, to_numpy=True)\n",
    "\tcategories_embedded = [angle.encode({\"text\": category}, to_numpy=True) for category in categories]\n",
    "\tscores = [cosine_similarity(category, embedded)[0] for category in categories_embedded]\n",
    "\n",
    "\t# query = f\"INSERT INTO notes(title, category, notes) VALUES ('{title}', '{categories[scores.index(max(*scores))]}', '{note.replace('\\'','\\'\\'')}')\"\n",
    "\t# print(query)\n",
    "\t# cursor.execute(query)\n",
    "\t# conn.commit()\n",
    "\treturn [categories[scores.index(max(*scores))], max(*scores).item()]"
   ]
  },
  {
   "cell_type": "code",
   "execution_count": 13,
   "metadata": {},
   "outputs": [
    {
     "name": "stdout",
     "output_type": "stream",
     "text": [
      "Server started http://localhost:3000\n"
     ]
    },
    {
     "name": "stderr",
     "output_type": "stream",
     "text": [
      "127.0.0.1 - - [05/Feb/2024 12:50:52] \"OPTIONS /test HTTP/1.1\" 200 -\n",
      "127.0.0.1 - - [05/Feb/2024 12:50:53] \"POST /test HTTP/1.1\" 200 -\n",
      "127.0.0.1 - - [05/Feb/2024 12:50:54] \"POST /test HTTP/1.1\" 200 -\n",
      "127.0.0.1 - - [05/Feb/2024 12:50:57] \"OPTIONS /test HTTP/1.1\" 200 -\n",
      "127.0.0.1 - - [05/Feb/2024 12:50:58] \"POST /test HTTP/1.1\" 200 -\n",
      "127.0.0.1 - - [05/Feb/2024 12:50:58] \"POST /test HTTP/1.1\" 200 -\n",
      "127.0.0.1 - - [05/Feb/2024 12:50:58] \"POST /test HTTP/1.1\" 200 -\n",
      "127.0.0.1 - - [05/Feb/2024 12:50:59] \"POST /test HTTP/1.1\" 200 -\n",
      "127.0.0.1 - - [05/Feb/2024 12:50:59] \"POST /test HTTP/1.1\" 200 -\n",
      "127.0.0.1 - - [05/Feb/2024 12:50:59] \"POST /test HTTP/1.1\" 200 -\n",
      "127.0.0.1 - - [05/Feb/2024 12:51:01] \"POST /test HTTP/1.1\" 200 -\n",
      "127.0.0.1 - - [05/Feb/2024 12:51:06] \"OPTIONS /test HTTP/1.1\" 200 -\n",
      "127.0.0.1 - - [05/Feb/2024 12:51:06] \"POST /test HTTP/1.1\" 200 -\n",
      "127.0.0.1 - - [05/Feb/2024 12:51:06] \"POST /test HTTP/1.1\" 200 -\n",
      "127.0.0.1 - - [05/Feb/2024 12:51:09] \"POST /test HTTP/1.1\" 200 -\n",
      "127.0.0.1 - - [05/Feb/2024 12:51:09] \"POST /test HTTP/1.1\" 200 -\n",
      "127.0.0.1 - - [05/Feb/2024 12:51:10] \"POST /test HTTP/1.1\" 200 -\n",
      "127.0.0.1 - - [05/Feb/2024 12:51:10] \"POST /test HTTP/1.1\" 200 -\n",
      "127.0.0.1 - - [05/Feb/2024 12:51:11] \"OPTIONS /test HTTP/1.1\" 200 -\n",
      "127.0.0.1 - - [05/Feb/2024 12:51:11] \"POST /test HTTP/1.1\" 200 -\n",
      "127.0.0.1 - - [05/Feb/2024 12:51:12] \"POST /test HTTP/1.1\" 200 -\n",
      "127.0.0.1 - - [05/Feb/2024 12:51:12] \"POST /test HTTP/1.1\" 200 -\n",
      "127.0.0.1 - - [05/Feb/2024 12:51:13] \"POST /test HTTP/1.1\" 200 -\n",
      "127.0.0.1 - - [05/Feb/2024 12:51:13] \"POST /test HTTP/1.1\" 200 -\n",
      "127.0.0.1 - - [05/Feb/2024 12:51:13] \"POST /test HTTP/1.1\" 200 -\n",
      "127.0.0.1 - - [05/Feb/2024 12:51:13] \"POST /test HTTP/1.1\" 200 -\n",
      "127.0.0.1 - - [05/Feb/2024 12:51:14] \"POST /test HTTP/1.1\" 200 -\n",
      "127.0.0.1 - - [05/Feb/2024 12:51:14] \"POST /test HTTP/1.1\" 200 -\n",
      "127.0.0.1 - - [05/Feb/2024 12:51:14] \"POST /test HTTP/1.1\" 200 -\n",
      "127.0.0.1 - - [05/Feb/2024 12:51:14] \"POST /test HTTP/1.1\" 200 -\n",
      "127.0.0.1 - - [05/Feb/2024 12:51:15] \"POST /test HTTP/1.1\" 200 -\n",
      "127.0.0.1 - - [05/Feb/2024 12:51:15] \"POST /test HTTP/1.1\" 200 -\n",
      "127.0.0.1 - - [05/Feb/2024 12:51:15] \"POST /test HTTP/1.1\" 200 -\n",
      "127.0.0.1 - - [05/Feb/2024 12:51:18] \"OPTIONS /test HTTP/1.1\" 200 -\n",
      "127.0.0.1 - - [05/Feb/2024 12:51:19] \"POST /test HTTP/1.1\" 200 -\n",
      "127.0.0.1 - - [05/Feb/2024 12:51:19] \"POST /test HTTP/1.1\" 200 -\n",
      "127.0.0.1 - - [05/Feb/2024 12:51:19] \"POST /test HTTP/1.1\" 200 -\n",
      "127.0.0.1 - - [05/Feb/2024 12:52:06] \"OPTIONS /test HTTP/1.1\" 200 -\n",
      "127.0.0.1 - - [05/Feb/2024 12:52:07] \"POST /test HTTP/1.1\" 200 -\n",
      "127.0.0.1 - - [05/Feb/2024 12:52:08] \"POST /test HTTP/1.1\" 200 -\n",
      "127.0.0.1 - - [05/Feb/2024 12:52:14] \"OPTIONS /test HTTP/1.1\" 200 -\n",
      "127.0.0.1 - - [05/Feb/2024 12:52:15] \"POST /test HTTP/1.1\" 200 -\n",
      "127.0.0.1 - - [05/Feb/2024 12:52:16] \"POST /test HTTP/1.1\" 200 -\n",
      "127.0.0.1 - - [05/Feb/2024 12:55:07] \"OPTIONS /test HTTP/1.1\" 200 -\n",
      "127.0.0.1 - - [05/Feb/2024 12:55:08] \"POST /test HTTP/1.1\" 200 -\n",
      "127.0.0.1 - - [05/Feb/2024 12:55:08] \"POST /test HTTP/1.1\" 200 -\n",
      "127.0.0.1 - - [05/Feb/2024 12:55:09] \"POST /test HTTP/1.1\" 200 -\n",
      "127.0.0.1 - - [05/Feb/2024 12:55:13] \"OPTIONS /test HTTP/1.1\" 200 -\n",
      "127.0.0.1 - - [05/Feb/2024 12:55:13] \"POST /test HTTP/1.1\" 200 -\n",
      "127.0.0.1 - - [05/Feb/2024 12:55:36] \"OPTIONS /test HTTP/1.1\" 200 -\n",
      "127.0.0.1 - - [05/Feb/2024 12:55:37] \"POST /test HTTP/1.1\" 200 -\n",
      "127.0.0.1 - - [05/Feb/2024 12:55:39] \"POST /test HTTP/1.1\" 200 -\n",
      "127.0.0.1 - - [05/Feb/2024 12:56:17] \"OPTIONS /test HTTP/1.1\" 200 -\n",
      "127.0.0.1 - - [05/Feb/2024 12:56:18] \"POST /test HTTP/1.1\" 200 -\n",
      "127.0.0.1 - - [05/Feb/2024 12:56:42] \"OPTIONS /test HTTP/1.1\" 200 -\n",
      "127.0.0.1 - - [05/Feb/2024 12:56:42] \"POST /test HTTP/1.1\" 200 -\n",
      "127.0.0.1 - - [05/Feb/2024 12:57:19] \"OPTIONS /test HTTP/1.1\" 200 -\n",
      "127.0.0.1 - - [05/Feb/2024 12:57:19] \"POST /test HTTP/1.1\" 200 -\n",
      "127.0.0.1 - - [05/Feb/2024 12:57:20] \"POST /test HTTP/1.1\" 200 -\n",
      "127.0.0.1 - - [05/Feb/2024 12:57:20] \"POST /test HTTP/1.1\" 200 -\n",
      "127.0.0.1 - - [05/Feb/2024 12:57:20] \"POST /test HTTP/1.1\" 200 -\n",
      "127.0.0.1 - - [05/Feb/2024 12:58:46] \"OPTIONS /test HTTP/1.1\" 200 -\n",
      "127.0.0.1 - - [05/Feb/2024 12:58:46] \"POST /test HTTP/1.1\" 200 -\n",
      "127.0.0.1 - - [05/Feb/2024 12:58:48] \"POST /test HTTP/1.1\" 200 -\n",
      "127.0.0.1 - - [05/Feb/2024 12:58:50] \"POST /test HTTP/1.1\" 200 -\n",
      "127.0.0.1 - - [05/Feb/2024 12:58:55] \"OPTIONS /test HTTP/1.1\" 200 -\n",
      "127.0.0.1 - - [05/Feb/2024 12:58:55] \"POST /test HTTP/1.1\" 200 -\n",
      "127.0.0.1 - - [05/Feb/2024 12:58:56] \"POST /test HTTP/1.1\" 200 -\n",
      "127.0.0.1 - - [05/Feb/2024 12:58:56] \"POST /test HTTP/1.1\" 200 -\n",
      "127.0.0.1 - - [05/Feb/2024 12:58:56] \"POST /test HTTP/1.1\" 200 -\n",
      "127.0.0.1 - - [05/Feb/2024 12:58:57] \"POST /test HTTP/1.1\" 200 -\n",
      "127.0.0.1 - - [05/Feb/2024 12:58:57] \"POST /test HTTP/1.1\" 200 -\n",
      "127.0.0.1 - - [05/Feb/2024 12:58:57] \"POST /test HTTP/1.1\" 200 -\n",
      "127.0.0.1 - - [05/Feb/2024 12:58:58] \"POST /test HTTP/1.1\" 200 -\n",
      "127.0.0.1 - - [05/Feb/2024 12:58:58] \"POST /test HTTP/1.1\" 200 -\n",
      "127.0.0.1 - - [05/Feb/2024 13:01:38] \"OPTIONS /test HTTP/1.1\" 200 -\n",
      "127.0.0.1 - - [05/Feb/2024 13:01:39] \"POST /test HTTP/1.1\" 200 -\n",
      "127.0.0.1 - - [05/Feb/2024 13:01:40] \"POST /test HTTP/1.1\" 200 -\n",
      "127.0.0.1 - - [05/Feb/2024 13:01:41] \"POST /test HTTP/1.1\" 200 -\n",
      "127.0.0.1 - - [05/Feb/2024 13:01:41] \"POST /test HTTP/1.1\" 200 -\n"
     ]
    },
    {
     "name": "stdout",
     "output_type": "stream",
     "text": [
      "Server stopped.\n"
     ]
    }
   ],
   "source": [
    "from http.server import BaseHTTPRequestHandler, HTTPServer\n",
    "import json\n",
    "\n",
    "hostName = \"localhost\"\n",
    "serverPort = 3000\n",
    "\n",
    "class MyServer(BaseHTTPRequestHandler):\n",
    "    def do_OPTIONS(self):\n",
    "        self.send_response(200)\n",
    "        self.send_header(\"Access-Control-Allow-Origin\", \"*\")\n",
    "        self.send_header(\"Access-Control-Allow-Credentials\", \"*\")\n",
    "        self.send_header(\"Access-Control-Allow-Methods\", \"*\")\n",
    "        self.send_header(\"Access-Control-Allow-Headers\", \"*\")\n",
    "        self.end_headers()\n",
    "    def do_POST(self):\n",
    "        content_len = int(self.headers.get('Content-Length'))\n",
    "        post_body = json.loads(self.rfile.read(content_len))\n",
    "        result = categorize_note(post_body[\"notes\"], post_body[\"categories\"])\n",
    "        self.send_response(200)\n",
    "        self.send_header( \"Access-Control-Allow-Origin\", \"*\")\n",
    "        self.send_header(\"Content-Type\", \"application/json\")\n",
    "        self.end_headers()\n",
    "        self.wfile.write(bytes(json.dumps({ \"bestMatch\": result[0], \"score\": result[1] }), \"utf8\"))\n",
    "if __name__ == \"__main__\":        \n",
    "    webServer = HTTPServer((hostName, serverPort), MyServer)\n",
    "    print(\"Server started http://%s:%s\" % (hostName, serverPort))\n",
    "\n",
    "    try:\n",
    "        webServer.serve_forever()\n",
    "    except KeyboardInterrupt:\n",
    "        pass\n",
    "\n",
    "    webServer.server_close()\n",
    "    print(\"Server stopped.\")"
   ]
  },
  {
   "cell_type": "code",
   "execution_count": null,
   "metadata": {},
   "outputs": [],
   "source": []
  }
 ],
 "metadata": {
  "kernelspec": {
   "display_name": "Python 3 (ipykernel)",
   "language": "python",
   "name": "python3"
  },
  "language_info": {
   "codemirror_mode": {
    "name": "ipython",
    "version": 3
   },
   "file_extension": ".py",
   "mimetype": "text/x-python",
   "name": "python",
   "nbconvert_exporter": "python",
   "pygments_lexer": "ipython3",
   "version": "3.12.1"
  }
 },
 "nbformat": 4,
 "nbformat_minor": 4
}
