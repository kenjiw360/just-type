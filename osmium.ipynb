{
 "cells": [
  {
   "cell_type": "code",
   "execution_count": 1,
   "metadata": {},
   "outputs": [],
   "source": [
    "# DATABASE='osmium'\n",
    "# HOST='127.0.0.1'\n",
    "# USERNAME='kenjiwang'\n",
    "# PASSWORD='5517007'\n",
    "# PORT='5432'"
   ]
  },
  {
   "cell_type": "code",
   "execution_count": 2,
   "metadata": {},
   "outputs": [
    {
     "name": "stderr",
     "output_type": "stream",
     "text": [
      "/Users/kenjiwang/anaconda3/envs/osmium/lib/python3.12/site-packages/bitsandbytes/cextension.py:34: UserWarning: The installed version of bitsandbytes was compiled without GPU support. 8-bit optimizers, 8-bit multiplication, and GPU quantization are unavailable.\n",
      "  warn(\"The installed version of bitsandbytes was compiled without GPU support. \"\n"
     ]
    },
    {
     "name": "stdout",
     "output_type": "stream",
     "text": [
      "'NoneType' object has no attribute 'cadam32bit_grad_fp32'\n"
     ]
    }
   ],
   "source": [
    "from angle_emb import AnglE, Prompts\n",
    "from numpy.linalg import norm\n",
    "import numpy as np\n",
    "import psycopg2"
   ]
  },
  {
   "cell_type": "code",
   "execution_count": 3,
   "metadata": {},
   "outputs": [],
   "source": [
    "def cosine_similarity(a,b):\n",
    "\treturn np.sum(a*b, axis=1)/(norm(a, axis=1)*norm(b, axis=1))"
   ]
  },
  {
   "cell_type": "code",
   "execution_count": 4,
   "metadata": {},
   "outputs": [],
   "source": [
    "# conn = psycopg2.connect(database=DATABASE,\n",
    "# \thost=HOST,\n",
    "# \tuser=USERNAME,\n",
    "# \tpassword=PASSWORD,\n",
    "# \tport=PORT\n",
    "# )\n",
    "\n",
    "# cursor = conn.cursor()\n",
    "\n",
    "# cursor.execute(\"CREATE TABLE IF NOT EXISTS notes (id bigserial PRIMARY KEY NOT NULL, title text NOT NULL, category text NOT NULL, notes text NOT NULL)\")\n",
    "\n",
    "# conn.commit()"
   ]
  },
  {
   "cell_type": "code",
   "execution_count": 5,
   "metadata": {},
   "outputs": [
    {
     "name": "stderr",
     "output_type": "stream",
     "text": [
      "INFO:AnglE:Prompt is set, the prompt will be automatically applied during the encoding phase. To disable prompt setting, please configure set_prompt(prompt=None)\n"
     ]
    }
   ],
   "source": [
    "angle = AnglE.from_pretrained('WhereIsAI/UAE-Large-V1', pooling_strategy='cls').cuda()\n",
    "angle.set_prompt(prompt=Prompts.C)"
   ]
  },
  {
   "cell_type": "code",
   "execution_count": 6,
   "metadata": {},
   "outputs": [],
   "source": [
    "def categorize_note(note, categories):\n",
    "\tembedded = angle.encode({\"text\": note}, to_numpy=True)\n",
    "\tcategories_embedded = [angle.encode({\"text\": category}, to_numpy=True) for category in categories]\n",
    "\tscores = [cosine_similarity(category, embedded)[0] for category in categories_embedded]\n",
    "\n",
    "\t# query = f\"INSERT INTO notes(title, category, notes) VALUES ('{title}', '{categories[scores.index(max(*scores))]}', '{note.replace('\\'','\\'\\'')}')\"\n",
    "\t# print(query)\n",
    "\t# cursor.execute(query)\n",
    "\t# conn.commit()\n",
    "\treturn [categories[scores.index(max(*scores))], max(*scores).item()]"
   ]
  },
  {
   "cell_type": "code",
   "execution_count": null,
   "metadata": {},
   "outputs": [
    {
     "name": "stdout",
     "output_type": "stream",
     "text": [
      "Server started http://localhost:3000\n"
     ]
    },
    {
     "name": "stderr",
     "output_type": "stream",
     "text": [
      "127.0.0.1 - - [29/Dec/2024 14:57:46] \"OPTIONS / HTTP/1.1\" 200 -\n",
      "127.0.0.1 - - [29/Dec/2024 14:57:49] \"POST / HTTP/1.1\" 200 -\n",
      "127.0.0.1 - - [29/Dec/2024 14:57:49] \"OPTIONS / HTTP/1.1\" 200 -\n",
      "127.0.0.1 - - [29/Dec/2024 14:57:49] \"POST / HTTP/1.1\" 200 -\n",
      "127.0.0.1 - - [29/Dec/2024 14:57:56] \"OPTIONS / HTTP/1.1\" 200 -\n",
      "127.0.0.1 - - [29/Dec/2024 14:57:56] \"POST / HTTP/1.1\" 200 -\n",
      "127.0.0.1 - - [29/Dec/2024 14:57:56] \"OPTIONS / HTTP/1.1\" 200 -\n",
      "127.0.0.1 - - [29/Dec/2024 14:57:57] \"POST / HTTP/1.1\" 200 -\n",
      "127.0.0.1 - - [29/Dec/2024 14:57:57] \"OPTIONS / HTTP/1.1\" 200 -\n",
      "127.0.0.1 - - [29/Dec/2024 14:57:57] \"POST / HTTP/1.1\" 200 -\n",
      "127.0.0.1 - - [29/Dec/2024 14:57:57] \"OPTIONS / HTTP/1.1\" 200 -\n",
      "127.0.0.1 - - [29/Dec/2024 14:57:57] \"POST / HTTP/1.1\" 200 -\n",
      "127.0.0.1 - - [29/Dec/2024 14:57:57] \"OPTIONS / HTTP/1.1\" 200 -\n",
      "127.0.0.1 - - [29/Dec/2024 14:57:57] \"POST / HTTP/1.1\" 200 -\n",
      "127.0.0.1 - - [29/Dec/2024 14:57:57] \"OPTIONS / HTTP/1.1\" 200 -\n",
      "127.0.0.1 - - [29/Dec/2024 14:57:57] \"POST / HTTP/1.1\" 200 -\n",
      "127.0.0.1 - - [29/Dec/2024 14:57:57] \"OPTIONS / HTTP/1.1\" 200 -\n",
      "127.0.0.1 - - [29/Dec/2024 14:57:58] \"POST / HTTP/1.1\" 200 -\n",
      "127.0.0.1 - - [29/Dec/2024 14:57:58] \"OPTIONS / HTTP/1.1\" 200 -\n",
      "127.0.0.1 - - [29/Dec/2024 14:57:58] \"POST / HTTP/1.1\" 200 -\n",
      "127.0.0.1 - - [29/Dec/2024 14:57:58] \"OPTIONS / HTTP/1.1\" 200 -\n",
      "127.0.0.1 - - [29/Dec/2024 14:57:58] \"POST / HTTP/1.1\" 200 -\n",
      "127.0.0.1 - - [29/Dec/2024 14:58:13] \"OPTIONS / HTTP/1.1\" 200 -\n",
      "127.0.0.1 - - [29/Dec/2024 14:58:14] \"POST / HTTP/1.1\" 200 -\n",
      "127.0.0.1 - - [29/Dec/2024 14:58:14] \"POST / HTTP/1.1\" 200 -\n",
      "127.0.0.1 - - [29/Dec/2024 14:58:14] \"POST / HTTP/1.1\" 200 -\n",
      "127.0.0.1 - - [29/Dec/2024 14:58:14] \"POST / HTTP/1.1\" 200 -\n",
      "127.0.0.1 - - [29/Dec/2024 14:58:14] \"POST / HTTP/1.1\" 200 -\n",
      "127.0.0.1 - - [29/Dec/2024 14:58:18] \"POST / HTTP/1.1\" 200 -\n",
      "127.0.0.1 - - [29/Dec/2024 14:58:18] \"POST / HTTP/1.1\" 200 -\n",
      "127.0.0.1 - - [29/Dec/2024 14:58:21] \"OPTIONS / HTTP/1.1\" 200 -\n",
      "127.0.0.1 - - [29/Dec/2024 14:58:21] \"POST / HTTP/1.1\" 200 -\n",
      "127.0.0.1 - - [29/Dec/2024 14:58:22] \"POST / HTTP/1.1\" 200 -\n",
      "127.0.0.1 - - [29/Dec/2024 14:58:22] \"POST / HTTP/1.1\" 200 -\n",
      "127.0.0.1 - - [29/Dec/2024 14:58:23] \"POST / HTTP/1.1\" 200 -\n",
      "127.0.0.1 - - [29/Dec/2024 14:58:23] \"POST / HTTP/1.1\" 200 -\n",
      "127.0.0.1 - - [29/Dec/2024 14:58:23] \"POST / HTTP/1.1\" 200 -\n",
      "127.0.0.1 - - [29/Dec/2024 14:58:23] \"POST / HTTP/1.1\" 200 -\n",
      "127.0.0.1 - - [29/Dec/2024 14:58:23] \"POST / HTTP/1.1\" 200 -\n",
      "127.0.0.1 - - [29/Dec/2024 14:58:24] \"POST / HTTP/1.1\" 200 -\n",
      "127.0.0.1 - - [29/Dec/2024 14:58:24] \"POST / HTTP/1.1\" 200 -\n",
      "127.0.0.1 - - [29/Dec/2024 14:58:24] \"POST / HTTP/1.1\" 200 -\n",
      "127.0.0.1 - - [29/Dec/2024 14:58:29] \"OPTIONS / HTTP/1.1\" 200 -\n",
      "127.0.0.1 - - [29/Dec/2024 14:58:30] \"POST / HTTP/1.1\" 200 -\n",
      "127.0.0.1 - - [29/Dec/2024 14:58:30] \"POST / HTTP/1.1\" 200 -\n",
      "127.0.0.1 - - [29/Dec/2024 14:58:30] \"POST / HTTP/1.1\" 200 -\n",
      "127.0.0.1 - - [29/Dec/2024 14:58:30] \"POST / HTTP/1.1\" 200 -\n",
      "127.0.0.1 - - [29/Dec/2024 14:58:30] \"POST / HTTP/1.1\" 200 -\n",
      "127.0.0.1 - - [29/Dec/2024 14:58:33] \"POST / HTTP/1.1\" 200 -\n",
      "127.0.0.1 - - [29/Dec/2024 14:58:33] \"POST / HTTP/1.1\" 200 -\n",
      "127.0.0.1 - - [29/Dec/2024 14:58:35] \"OPTIONS / HTTP/1.1\" 200 -\n",
      "127.0.0.1 - - [29/Dec/2024 14:58:35] \"POST / HTTP/1.1\" 200 -\n",
      "127.0.0.1 - - [29/Dec/2024 14:58:35] \"POST / HTTP/1.1\" 200 -\n",
      "127.0.0.1 - - [29/Dec/2024 14:58:36] \"POST / HTTP/1.1\" 200 -\n",
      "127.0.0.1 - - [29/Dec/2024 14:58:36] \"POST / HTTP/1.1\" 200 -\n",
      "127.0.0.1 - - [29/Dec/2024 14:58:38] \"POST / HTTP/1.1\" 200 -\n",
      "127.0.0.1 - - [29/Dec/2024 14:58:38] \"POST / HTTP/1.1\" 200 -\n",
      "127.0.0.1 - - [29/Dec/2024 14:58:38] \"POST / HTTP/1.1\" 200 -\n",
      "127.0.0.1 - - [29/Dec/2024 14:58:39] \"POST / HTTP/1.1\" 200 -\n",
      "127.0.0.1 - - [29/Dec/2024 14:58:41] \"OPTIONS / HTTP/1.1\" 200 -\n",
      "127.0.0.1 - - [29/Dec/2024 14:58:42] \"POST / HTTP/1.1\" 200 -\n",
      "127.0.0.1 - - [29/Dec/2024 14:58:42] \"POST / HTTP/1.1\" 200 -\n",
      "127.0.0.1 - - [29/Dec/2024 14:58:42] \"POST / HTTP/1.1\" 200 -\n",
      "127.0.0.1 - - [29/Dec/2024 14:58:42] \"POST / HTTP/1.1\" 200 -\n",
      "127.0.0.1 - - [29/Dec/2024 14:58:42] \"POST / HTTP/1.1\" 200 -\n",
      "127.0.0.1 - - [29/Dec/2024 14:58:45] \"POST / HTTP/1.1\" 200 -\n",
      "127.0.0.1 - - [29/Dec/2024 14:58:45] \"POST / HTTP/1.1\" 200 -\n",
      "127.0.0.1 - - [29/Dec/2024 14:58:48] \"OPTIONS / HTTP/1.1\" 200 -\n",
      "127.0.0.1 - - [29/Dec/2024 14:58:48] \"POST / HTTP/1.1\" 200 -\n",
      "127.0.0.1 - - [29/Dec/2024 14:58:48] \"POST / HTTP/1.1\" 200 -\n",
      "127.0.0.1 - - [29/Dec/2024 14:58:52] \"POST / HTTP/1.1\" 200 -\n",
      "127.0.0.1 - - [29/Dec/2024 14:58:53] \"POST / HTTP/1.1\" 200 -\n",
      "127.0.0.1 - - [29/Dec/2024 14:58:53] \"POST / HTTP/1.1\" 200 -\n",
      "127.0.0.1 - - [29/Dec/2024 14:58:53] \"POST / HTTP/1.1\" 200 -\n",
      "127.0.0.1 - - [29/Dec/2024 14:58:53] \"OPTIONS / HTTP/1.1\" 200 -\n",
      "127.0.0.1 - - [29/Dec/2024 14:58:53] \"POST / HTTP/1.1\" 200 -\n",
      "127.0.0.1 - - [29/Dec/2024 14:58:53] \"POST / HTTP/1.1\" 200 -\n",
      "127.0.0.1 - - [29/Dec/2024 14:58:54] \"POST / HTTP/1.1\" 200 -\n",
      "127.0.0.1 - - [29/Dec/2024 14:58:55] \"POST / HTTP/1.1\" 200 -\n",
      "127.0.0.1 - - [29/Dec/2024 14:58:57] \"POST / HTTP/1.1\" 200 -\n",
      "127.0.0.1 - - [29/Dec/2024 14:58:58] \"POST / HTTP/1.1\" 200 -\n",
      "127.0.0.1 - - [29/Dec/2024 14:58:58] \"POST / HTTP/1.1\" 200 -\n",
      "127.0.0.1 - - [29/Dec/2024 14:58:58] \"POST / HTTP/1.1\" 200 -\n",
      "127.0.0.1 - - [29/Dec/2024 14:58:58] \"OPTIONS / HTTP/1.1\" 200 -\n",
      "127.0.0.1 - - [29/Dec/2024 14:58:58] \"POST / HTTP/1.1\" 200 -\n",
      "127.0.0.1 - - [29/Dec/2024 14:58:59] \"POST / HTTP/1.1\" 200 -\n",
      "127.0.0.1 - - [29/Dec/2024 14:58:59] \"POST / HTTP/1.1\" 200 -\n",
      "127.0.0.1 - - [29/Dec/2024 14:59:00] \"POST / HTTP/1.1\" 200 -\n",
      "127.0.0.1 - - [29/Dec/2024 14:59:00] \"POST / HTTP/1.1\" 200 -\n",
      "127.0.0.1 - - [29/Dec/2024 14:59:00] \"POST / HTTP/1.1\" 200 -\n",
      "127.0.0.1 - - [29/Dec/2024 14:59:01] \"POST / HTTP/1.1\" 200 -\n",
      "127.0.0.1 - - [29/Dec/2024 14:59:33] \"OPTIONS / HTTP/1.1\" 200 -\n",
      "127.0.0.1 - - [29/Dec/2024 14:59:33] \"POST / HTTP/1.1\" 200 -\n",
      "127.0.0.1 - - [29/Dec/2024 14:59:33] \"OPTIONS / HTTP/1.1\" 200 -\n",
      "127.0.0.1 - - [29/Dec/2024 14:59:34] \"POST / HTTP/1.1\" 200 -\n",
      "127.0.0.1 - - [29/Dec/2024 14:59:34] \"OPTIONS / HTTP/1.1\" 200 -\n",
      "127.0.0.1 - - [29/Dec/2024 14:59:34] \"POST / HTTP/1.1\" 200 -\n",
      "127.0.0.1 - - [29/Dec/2024 14:59:34] \"OPTIONS / HTTP/1.1\" 200 -\n",
      "127.0.0.1 - - [29/Dec/2024 14:59:34] \"POST / HTTP/1.1\" 200 -\n",
      "127.0.0.1 - - [29/Dec/2024 14:59:34] \"OPTIONS / HTTP/1.1\" 200 -\n",
      "127.0.0.1 - - [29/Dec/2024 14:59:34] \"POST / HTTP/1.1\" 200 -\n",
      "127.0.0.1 - - [29/Dec/2024 14:59:34] \"OPTIONS / HTTP/1.1\" 200 -\n",
      "127.0.0.1 - - [29/Dec/2024 14:59:35] \"POST / HTTP/1.1\" 200 -\n",
      "127.0.0.1 - - [29/Dec/2024 14:59:36] \"OPTIONS / HTTP/1.1\" 200 -\n",
      "127.0.0.1 - - [29/Dec/2024 14:59:36] \"POST / HTTP/1.1\" 200 -\n",
      "127.0.0.1 - - [29/Dec/2024 14:59:36] \"OPTIONS / HTTP/1.1\" 200 -\n",
      "127.0.0.1 - - [29/Dec/2024 14:59:36] \"POST / HTTP/1.1\" 200 -\n",
      "127.0.0.1 - - [29/Dec/2024 15:04:54] \"OPTIONS / HTTP/1.1\" 200 -\n",
      "127.0.0.1 - - [29/Dec/2024 15:04:55] \"POST / HTTP/1.1\" 200 -\n",
      "127.0.0.1 - - [29/Dec/2024 15:04:55] \"POST / HTTP/1.1\" 200 -\n",
      "127.0.0.1 - - [29/Dec/2024 15:04:55] \"POST / HTTP/1.1\" 200 -\n",
      "127.0.0.1 - - [29/Dec/2024 15:04:55] \"POST / HTTP/1.1\" 200 -\n",
      "127.0.0.1 - - [29/Dec/2024 15:04:55] \"POST / HTTP/1.1\" 200 -\n",
      "127.0.0.1 - - [29/Dec/2024 15:04:56] \"POST / HTTP/1.1\" 200 -\n",
      "127.0.0.1 - - [29/Dec/2024 15:04:56] \"POST / HTTP/1.1\" 200 -\n",
      "127.0.0.1 - - [29/Dec/2024 15:04:56] \"POST / HTTP/1.1\" 200 -\n",
      "127.0.0.1 - - [29/Dec/2024 15:04:56] \"POST / HTTP/1.1\" 200 -\n",
      "127.0.0.1 - - [29/Dec/2024 15:04:56] \"POST / HTTP/1.1\" 200 -\n",
      "127.0.0.1 - - [29/Dec/2024 15:04:57] \"POST / HTTP/1.1\" 200 -\n",
      "127.0.0.1 - - [29/Dec/2024 15:04:57] \"POST / HTTP/1.1\" 200 -\n",
      "127.0.0.1 - - [29/Dec/2024 15:04:57] \"POST / HTTP/1.1\" 200 -\n",
      "127.0.0.1 - - [29/Dec/2024 15:04:57] \"POST / HTTP/1.1\" 200 -\n",
      "127.0.0.1 - - [29/Dec/2024 15:04:57] \"POST / HTTP/1.1\" 200 -\n",
      "127.0.0.1 - - [29/Dec/2024 15:04:58] \"POST / HTTP/1.1\" 200 -\n",
      "127.0.0.1 - - [29/Dec/2024 15:05:29] \"OPTIONS / HTTP/1.1\" 200 -\n",
      "127.0.0.1 - - [29/Dec/2024 15:05:30] \"POST / HTTP/1.1\" 200 -\n",
      "127.0.0.1 - - [29/Dec/2024 15:05:30] \"POST / HTTP/1.1\" 200 -\n",
      "127.0.0.1 - - [29/Dec/2024 15:05:30] \"POST / HTTP/1.1\" 200 -\n",
      "127.0.0.1 - - [29/Dec/2024 15:05:30] \"POST / HTTP/1.1\" 200 -\n",
      "127.0.0.1 - - [29/Dec/2024 15:05:30] \"POST / HTTP/1.1\" 200 -\n",
      "127.0.0.1 - - [29/Dec/2024 15:05:31] \"POST / HTTP/1.1\" 200 -\n",
      "127.0.0.1 - - [29/Dec/2024 15:05:31] \"POST / HTTP/1.1\" 200 -\n",
      "127.0.0.1 - - [29/Dec/2024 15:05:37] \"OPTIONS / HTTP/1.1\" 200 -\n",
      "127.0.0.1 - - [29/Dec/2024 15:05:37] \"POST / HTTP/1.1\" 200 -\n",
      "127.0.0.1 - - [29/Dec/2024 15:05:37] \"POST / HTTP/1.1\" 200 -\n",
      "127.0.0.1 - - [29/Dec/2024 15:05:40] \"POST / HTTP/1.1\" 200 -\n",
      "127.0.0.1 - - [29/Dec/2024 15:05:41] \"POST / HTTP/1.1\" 200 -\n",
      "127.0.0.1 - - [29/Dec/2024 15:06:20] \"OPTIONS / HTTP/1.1\" 200 -\n",
      "127.0.0.1 - - [29/Dec/2024 15:06:21] \"POST / HTTP/1.1\" 200 -\n",
      "127.0.0.1 - - [29/Dec/2024 15:14:30] \"OPTIONS / HTTP/1.1\" 200 -\n",
      "127.0.0.1 - - [29/Dec/2024 15:14:30] \"POST / HTTP/1.1\" 200 -\n",
      "127.0.0.1 - - [29/Dec/2024 15:14:31] \"POST / HTTP/1.1\" 200 -\n",
      "127.0.0.1 - - [29/Dec/2024 15:14:34] \"POST / HTTP/1.1\" 200 -\n",
      "127.0.0.1 - - [29/Dec/2024 15:14:34] \"POST / HTTP/1.1\" 200 -\n",
      "127.0.0.1 - - [29/Dec/2024 15:14:34] \"POST / HTTP/1.1\" 200 -\n",
      "127.0.0.1 - - [29/Dec/2024 15:14:34] \"POST / HTTP/1.1\" 200 -\n",
      "127.0.0.1 - - [29/Dec/2024 15:14:35] \"POST / HTTP/1.1\" 200 -\n",
      "127.0.0.1 - - [29/Dec/2024 15:14:35] \"OPTIONS / HTTP/1.1\" 200 -\n",
      "127.0.0.1 - - [29/Dec/2024 15:14:35] \"POST / HTTP/1.1\" 200 -\n",
      "127.0.0.1 - - [29/Dec/2024 15:14:35] \"POST / HTTP/1.1\" 200 -\n",
      "127.0.0.1 - - [29/Dec/2024 15:14:35] \"POST / HTTP/1.1\" 200 -\n"
     ]
    }
   ],
   "source": [
    "from http.server import BaseHTTPRequestHandler, HTTPServer\n",
    "import json\n",
    "\n",
    "hostName = \"localhost\"\n",
    "serverPort = 3000\n",
    "\n",
    "class MyServer(BaseHTTPRequestHandler):\n",
    "    def do_OPTIONS(self):\n",
    "        self.send_response(200)\n",
    "        self.send_header(\"Access-Control-Allow-Origin\", \"*\")\n",
    "        self.send_header(\"Access-Control-Allow-Credentials\", \"*\")\n",
    "        self.send_header(\"Access-Control-Allow-Methods\", \"*\")\n",
    "        self.send_header(\"Access-Control-Allow-Headers\", \"*\")\n",
    "        self.end_headers()\n",
    "    def do_POST(self):\n",
    "        content_len = int(self.headers.get('Content-Length'))\n",
    "        post_body = json.loads(self.rfile.read(content_len))\n",
    "        result = categorize_note(post_body[\"notes\"], post_body[\"categories\"])\n",
    "        self.send_response(200)\n",
    "        self.send_header( \"Access-Control-Allow-Origin\", \"*\")\n",
    "        self.send_header(\"Content-Type\", \"application/json\")\n",
    "        self.end_headers()\n",
    "        self.wfile.write(bytes(json.dumps({ \"bestMatch\": result[0], \"score\": result[1] }), \"utf8\"))\n",
    "if __name__ == \"__main__\":        \n",
    "    webServer = HTTPServer((hostName, serverPort), MyServer)\n",
    "    print(\"Server started http://%s:%s\" % (hostName, serverPort))\n",
    "\n",
    "    try:\n",
    "        webServer.serve_forever()\n",
    "    except KeyboardInterrupt:\n",
    "        pass\n",
    "\n",
    "    webServer.server_close()\n",
    "    print(\"Server stopped.\")"
   ]
  },
  {
   "cell_type": "code",
   "execution_count": null,
   "metadata": {},
   "outputs": [],
   "source": []
  }
 ],
 "metadata": {
  "kernelspec": {
   "display_name": "osmium",
   "language": "python",
   "name": "python3"
  },
  "language_info": {
   "codemirror_mode": {
    "name": "ipython",
    "version": 3
   },
   "file_extension": ".py",
   "mimetype": "text/x-python",
   "name": "python",
   "nbconvert_exporter": "python",
   "pygments_lexer": "ipython3",
   "version": "3.12.1"
  }
 },
 "nbformat": 4,
 "nbformat_minor": 4
}
